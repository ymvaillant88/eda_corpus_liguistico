{
 "cells": [
  {
   "attachments": {},
   "cell_type": "markdown",
   "metadata": {},
   "source": [
    "# ANÁLISIS DE CORPUS LINGÜÍSTICO\n",
    "#### Autor: Yaritza Montero Vaillant\n",
    "#### Fecha: 2020-04-10\n"
   ]
  },
  {
   "attachments": {},
   "cell_type": "markdown",
   "metadata": {},
   "source": [
    "# ¿Que diferencia dos idiomas?\n",
    "                ENGLISH vs SPANISH. "
   ]
  },
  {
   "attachments": {},
   "cell_type": "markdown",
   "metadata": {},
   "source": [
    "Entender en que se parecen dos idiomas o en que se diferencian, nos puede ayudar a entender el modelo.\n",
    "\n",
    "El proyecto tiene como objetivo profundizar nuestra comprensión de la traducción lingüística y sus métricas asociadas. \n",
    "\n",
    "A través del análisis de datos, podemos identificar:\n",
    "- Patrones en el corpus.\n",
    "- Extraer métricas.\n",
    "- Organizarlas en categorías significativas."
   ]
  },
  {
   "attachments": {},
   "cell_type": "markdown",
   "metadata": {},
   "source": [
    "# ASPECTOS A EVALUAR\n"
   ]
  },
  {
   "attachments": {},
   "cell_type": "markdown",
   "metadata": {},
   "source": [
    "1. Limpieza de datos originales.\n",
    "2. Agregar variables necesarias para enteder, analizar y llegar a una conclusión en relación al problema que se quiere resolver.\n",
    "3. Obtener dataset.\n",
    "4. Realizar un análisis exploratorio de los datos.\n",
    "4. Visualizar los datos.\n",
    "5. Conclusión"
   ]
  },
  {
   "cell_type": "markdown",
   "metadata": {},
   "source": [
    "### Procedimiento para limpiar datos en ficheros originales"
   ]
  },
  {
   "attachments": {},
   "cell_type": "markdown",
   "metadata": {},
   "source": [
    "Se tiene varios archivos con formato .tsv o .txt con frases en inglés y su traducción al español."
   ]
  },
  {
   "attachments": {},
   "cell_type": "markdown",
   "metadata": {},
   "source": [
    "Para obtener el primer dataset se realizaron una cierta cantidad de validaciones:\n",
    "- Método que valida si la TU tiene source y target.\n",
    "- Método que valida si el source tiene mas de 2 palabras (ya que no sería de mucho valor para la entidad traducir frases de 2 palabras).\n",
    "- Método que valida si las frases empiezan por \".\n",
    "- Método para eliminar frases con URL (utilizando expresiones regulares).\n",
    "- Método para eliminar frases con emoticons."
   ]
  },
  {
   "attachments": {},
   "cell_type": "markdown",
   "metadata": {},
   "source": [
    "- Ejecutar el script<br>\n",
    "[Carpeta utils](../utils/main.py) : código python para obtener los archivos .tsv o .txt con las frases. <br>"
   ]
  },
  {
   "attachments": {},
   "cell_type": "markdown",
   "metadata": {},
   "source": [
    "Al ejecutar los script, el sistema busca los archivos en la carpeta [Ficheros/Datos](../Ficheros/datos) y genera automáticamente 2 carpetas adicionales limpios y errores.\n",
    "\n",
    "[Ficheros/Datos](../Ficheros/datos) : ficheros originales para proceder a limpiarlos. <br>\n",
    "[Ficheros/limpios](../Ficheros/limpios) : ficheros procesados listos para analizar. <br>\n",
    "[Ficheros/errores](../Ficheros/errores) : ficheros eliminados. <br>"
   ]
  },
  {
   "attachments": {},
   "cell_type": "markdown",
   "metadata": {},
   "source": [
    "### Conjunto de datos"
   ]
  },
  {
   "attachments": {},
   "cell_type": "markdown",
   "metadata": {},
   "source": [
    "Una vez obtenido los ficheros con los datos, se procede a cargarlos en el notebook y crear las nuevas columnas que se van a utilizar en el análisis."
   ]
  },
  {
   "attachments": {},
   "cell_type": "markdown",
   "metadata": {},
   "source": [
    "[Quantity_Words](../notebook/2_dataset_original.ipynb)\n",
    "- Notebook donde se carga todo el dataset obtenido, utilizando la librería 'pandas'.\n",
    "- Se adiciona nuevas variables al dataset (quantity_words_source, quantity_words_target)\n",
    "\n",
    "[Proc_Text](../notebook/3_proc_texto.ipynb)<br><br>\n",
    "Notebook donde se incrementan nuevas variables:\n",
    "- \"sentiment\": sentimiento de la frase (positivo, negativo o neutral).\n",
    "- categorías gramaticales: se identifican las diferentes categorías dentro de cada frase y se obtiene la cantidad presente en cada TU."
   ]
  },
  {
   "attachments": {},
   "cell_type": "markdown",
   "metadata": {},
   "source": [
    "### Limpieza de datos"
   ]
  },
  {
   "attachments": {},
   "cell_type": "markdown",
   "metadata": {},
   "source": [
    "Una vez obtenido el dataframe se realiza la limpieza de datos teniendo en cuenta varios aspectos:\n",
    "- Datos faltantes.\n",
    "- Columnas irrelevantes.\n",
    "- Filas repetidas o presencia de valores nulos.\n",
    "- Valores extremos en variables numéricas.\n",
    "- Errores tipográficos en variables categóricas."
   ]
  },
  {
   "attachments": {},
   "cell_type": "markdown",
   "metadata": {},
   "source": [
    "[Limpieza_Datos](../notebook/4_limpieza_datos.ipynb): notebook donde se realiza todo el proceso de limpiar los datos"
   ]
  },
  {
   "attachments": {},
   "cell_type": "markdown",
   "metadata": {},
   "source": [
    "## Ánalisis exploratorio del dataset"
   ]
  },
  {
   "attachments": {},
   "cell_type": "markdown",
   "metadata": {},
   "source": [
    "- Una vez obtenido el dataset, se procede a realizar un análisis exploratorio de los datos para conocer su estructura y características. \n",
    "- Representar gráficamente las relaciones entre las variables y de esta forma llegar a una coclusión sobre la hipótesis planteada."
   ]
  },
  {
   "attachments": {},
   "cell_type": "markdown",
   "metadata": {},
   "source": [
    "[EDA](../notebook/6_EDA.ipynb) : notebook donde se analizan las diferentes variables del dataset para llegar a una conclusión sobre la hipótesis planteada."
   ]
  },
  {
   "cell_type": "markdown",
   "metadata": {},
   "source": [
    "## Conclusiones"
   ]
  },
  {
   "cell_type": "code",
   "execution_count": null,
   "metadata": {},
   "outputs": [],
   "source": []
  }
 ],
 "metadata": {
  "kernelspec": {
   "display_name": "eda_env",
   "language": "python",
   "name": "python3"
  },
  "language_info": {
   "codemirror_mode": {
    "name": "ipython",
    "version": 3
   },
   "file_extension": ".py",
   "mimetype": "text/x-python",
   "name": "python",
   "nbconvert_exporter": "python",
   "pygments_lexer": "ipython3",
   "version": "3.9.16"
  },
  "orig_nbformat": 4
 },
 "nbformat": 4,
 "nbformat_minor": 2
}
