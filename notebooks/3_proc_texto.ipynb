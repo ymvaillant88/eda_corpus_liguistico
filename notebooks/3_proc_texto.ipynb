{
 "cells": [
  {
   "cell_type": "code",
   "execution_count": 1,
   "metadata": {},
   "outputs": [],
   "source": [
    "import pandas as pd\n",
    "\n",
    "# Librería para conexión a base de datos\n",
    "import mysql.connector\n",
    "\n",
    "# Librería para procesamiento de lenguaje natural(NLP)\n",
    "import spacy  \n",
    "from textblob import TextBlob\n"
   ]
  },
  {
   "attachments": {},
   "cell_type": "markdown",
   "metadata": {},
   "source": [
    "**Observaciones:** <br><br>\n",
    "Se decidió guardar los datos en una base de datos MySQL, ya que al contar con una gran cantidad de registros, el procesamiento de los mismos se vuelve muy lento y no fue posible obtener el dataframe completo.\n"
   ]
  },
  {
   "cell_type": "code",
   "execution_count": 2,
   "metadata": {},
   "outputs": [],
   "source": [
    "# Conexión con la base de datos\n",
    "cnx = mysql.connector.connect(host='localhost',\n",
    "                              port = '3306',\n",
    "                              database='corpus_linguistico',\n",
    "                              user='root',\n",
    "                              password='')"
   ]
  },
  {
   "cell_type": "code",
   "execution_count": 3,
   "metadata": {},
   "outputs": [],
   "source": [
    "# Instancia de cursor\n",
    "cursor = cnx.cursor()"
   ]
  },
  {
   "attachments": {},
   "cell_type": "markdown",
   "metadata": {},
   "source": [
    "## Agregar nuevas variables al dataset"
   ]
  },
  {
   "attachments": {},
   "cell_type": "markdown",
   "metadata": {},
   "source": [
    "### Análisis de sentimiento"
   ]
  },
  {
   "cell_type": "markdown",
   "metadata": {},
   "source": [
    "Para realizar el ánalisis de sentimiento a cada frase se utilizó la librería **\"TextBlob\"**"
   ]
  },
  {
   "attachments": {},
   "cell_type": "markdown",
   "metadata": {},
   "source": [
    "**Textblob:** librería de procesamiento de lenguaje natural en Python que se utiliza para tareas como análisis de sentimientos, extracción de información, clasificación de textos, traducción, entre otras."
   ]
  },
  {
   "cell_type": "code",
   "execution_count": 4,
   "metadata": {},
   "outputs": [],
   "source": [
    "# Función para clasificar el sentimiento de una frase\n",
    "    # Argumentos: frase\n",
    "    # Salida: sentimiento\n",
    "\n",
    "def analiza_sentimiento(frase):\n",
    "    testimonio = TextBlob(frase)                    # Crea un objeto TextBlob con la frase \n",
    "    polaridad = testimonio.sentiment.polarity       # Extrae la polaridad del sentimiento de la frase \n",
    "    if polaridad > 0:\n",
    "        return \"positivo\"\n",
    "    elif polaridad < 0:\n",
    "        return \"negativo\"\n",
    "    else:\n",
    "        return \"neutral\""
   ]
  },
  {
   "attachments": {},
   "cell_type": "markdown",
   "metadata": {},
   "source": [
    "### Categorías gramaticales"
   ]
  },
  {
   "attachments": {},
   "cell_type": "markdown",
   "metadata": {},
   "source": [
    "Para identificar las categorías presentes en cada frase se utilizó la librería \"Spacy\""
   ]
  },
  {
   "attachments": {},
   "cell_type": "markdown",
   "metadata": {},
   "source": [
    "**Spacy**: es una biblioteca de procesamiento de lenguaje natural muy completa y eficiente, es muy útil para el procesamiento de texto, análisis de texto, etiquetado POS."
   ]
  },
  {
   "attachments": {},
   "cell_type": "markdown",
   "metadata": {},
   "source": [
    "Las nuevas variables agregar son:\n",
    "- NOUN: Sustantivos\n",
    "- ADJ: Adjetivos\n",
    "- DET: Determinantes (artículos)\n",
    "- ADV: Adverbios\n",
    "- CCONJ: Conjunciones\n",
    "- VERB: Verbos\n",
    "- AUX: Verbos auxiliares\n",
    "- PRON: Pronombres\n",
    "- ADP: Preposiciones\n",
    "- PUNCT: signos de puntuación"
   ]
  },
  {
   "cell_type": "code",
   "execution_count": 5,
   "metadata": {},
   "outputs": [],
   "source": [
    "# Carga el modelo en inglés de Spacy\n",
    "nlp = spacy.load('en_core_web_lg')      \n",
    "\n",
    "# Carga el modelo en español de Spacy               \n",
    "nlpe = spacy.load('es_core_news_lg')  "
   ]
  },
  {
   "attachments": {},
   "cell_type": "markdown",
   "metadata": {},
   "source": [
    "#### Identificar las partes de cada frase "
   ]
  },
  {
   "cell_type": "code",
   "execution_count": 6,
   "metadata": {},
   "outputs": [],
   "source": [
    "# Función para contar palabras de acuerdo al tipo de token (sustantivo, adjetivo, etc)\n",
    "    # Argumentos: frase, modelo, tipo\n",
    "                    # modelo: en (inglés) o es (español)\n",
    "                    # tipo: sustantivo, adjetivo, verbo, etc (tokens de Spacy)\n",
    "\n",
    "    # Salida: cantidad de palabras del tipo especificado\n",
    "\n",
    "def contar(frase, modelo, tipo):\n",
    "    modelo = modelo.lower()         # Convierte a minúsculas el modelo\n",
    "    if modelo == \"en\":\n",
    "        doc = nlp(frase)\n",
    "    if modelo == \"es\":\n",
    "        doc = nlpe(frase)                \n",
    "    count = 0               \n",
    "    for token in doc:\n",
    "        if(token.pos_ == tipo):     # De acuerdo al token, incrementa el contador de ese tipo de palabra\n",
    "            count += 1\n",
    "    return count"
   ]
  },
  {
   "cell_type": "code",
   "execution_count": 7,
   "metadata": {},
   "outputs": [
    {
     "name": "stderr",
     "output_type": "stream",
     "text": [
      "/var/folders/j7/f0dlbvv5239_cpgr1x6831pc0000gn/T/ipykernel_26410/3903105507.py:7: UserWarning: pandas only supports SQLAlchemy connectable (engine/connection) or database string URI or sqlite3 DBAPI2 connection. Other DBAPI2 objects are not tested. Please consider using SQLAlchemy.\n",
      "  df_sql = pd.read_sql(query, cnx)\n"
     ]
    },
    {
     "name": "stdout",
     "output_type": "stream",
     "text": [
      "1000 registros actualizados.\n"
     ]
    },
    {
     "name": "stderr",
     "output_type": "stream",
     "text": [
      "/var/folders/j7/f0dlbvv5239_cpgr1x6831pc0000gn/T/ipykernel_26410/3903105507.py:7: UserWarning: pandas only supports SQLAlchemy connectable (engine/connection) or database string URI or sqlite3 DBAPI2 connection. Other DBAPI2 objects are not tested. Please consider using SQLAlchemy.\n",
      "  df_sql = pd.read_sql(query, cnx)\n"
     ]
    },
    {
     "name": "stdout",
     "output_type": "stream",
     "text": [
      "0 registros actualizados.\n"
     ]
    },
    {
     "name": "stderr",
     "output_type": "stream",
     "text": [
      "/var/folders/j7/f0dlbvv5239_cpgr1x6831pc0000gn/T/ipykernel_26410/3903105507.py:7: UserWarning: pandas only supports SQLAlchemy connectable (engine/connection) or database string URI or sqlite3 DBAPI2 connection. Other DBAPI2 objects are not tested. Please consider using SQLAlchemy.\n",
      "  df_sql = pd.read_sql(query, cnx)\n"
     ]
    },
    {
     "name": "stdout",
     "output_type": "stream",
     "text": [
      "1000 registros actualizados.\n"
     ]
    },
    {
     "name": "stderr",
     "output_type": "stream",
     "text": [
      "/var/folders/j7/f0dlbvv5239_cpgr1x6831pc0000gn/T/ipykernel_26410/3903105507.py:7: UserWarning: pandas only supports SQLAlchemy connectable (engine/connection) or database string URI or sqlite3 DBAPI2 connection. Other DBAPI2 objects are not tested. Please consider using SQLAlchemy.\n",
      "  df_sql = pd.read_sql(query, cnx)\n"
     ]
    },
    {
     "name": "stdout",
     "output_type": "stream",
     "text": [
      "1000 registros actualizados.\n"
     ]
    },
    {
     "name": "stderr",
     "output_type": "stream",
     "text": [
      "/var/folders/j7/f0dlbvv5239_cpgr1x6831pc0000gn/T/ipykernel_26410/3903105507.py:7: UserWarning: pandas only supports SQLAlchemy connectable (engine/connection) or database string URI or sqlite3 DBAPI2 connection. Other DBAPI2 objects are not tested. Please consider using SQLAlchemy.\n",
      "  df_sql = pd.read_sql(query, cnx)\n"
     ]
    },
    {
     "name": "stdout",
     "output_type": "stream",
     "text": [
      "1000 registros actualizados.\n"
     ]
    },
    {
     "name": "stderr",
     "output_type": "stream",
     "text": [
      "/var/folders/j7/f0dlbvv5239_cpgr1x6831pc0000gn/T/ipykernel_26410/3903105507.py:7: UserWarning: pandas only supports SQLAlchemy connectable (engine/connection) or database string URI or sqlite3 DBAPI2 connection. Other DBAPI2 objects are not tested. Please consider using SQLAlchemy.\n",
      "  df_sql = pd.read_sql(query, cnx)\n"
     ]
    },
    {
     "name": "stdout",
     "output_type": "stream",
     "text": [
      "0 registros actualizados.\n"
     ]
    },
    {
     "name": "stderr",
     "output_type": "stream",
     "text": [
      "/var/folders/j7/f0dlbvv5239_cpgr1x6831pc0000gn/T/ipykernel_26410/3903105507.py:7: UserWarning: pandas only supports SQLAlchemy connectable (engine/connection) or database string URI or sqlite3 DBAPI2 connection. Other DBAPI2 objects are not tested. Please consider using SQLAlchemy.\n",
      "  df_sql = pd.read_sql(query, cnx)\n"
     ]
    },
    {
     "name": "stdout",
     "output_type": "stream",
     "text": [
      "0 registros actualizados.\n"
     ]
    },
    {
     "name": "stderr",
     "output_type": "stream",
     "text": [
      "/var/folders/j7/f0dlbvv5239_cpgr1x6831pc0000gn/T/ipykernel_26410/3903105507.py:7: UserWarning: pandas only supports SQLAlchemy connectable (engine/connection) or database string URI or sqlite3 DBAPI2 connection. Other DBAPI2 objects are not tested. Please consider using SQLAlchemy.\n",
      "  df_sql = pd.read_sql(query, cnx)\n"
     ]
    },
    {
     "name": "stdout",
     "output_type": "stream",
     "text": [
      "1000 registros actualizados.\n"
     ]
    },
    {
     "name": "stderr",
     "output_type": "stream",
     "text": [
      "/var/folders/j7/f0dlbvv5239_cpgr1x6831pc0000gn/T/ipykernel_26410/3903105507.py:7: UserWarning: pandas only supports SQLAlchemy connectable (engine/connection) or database string URI or sqlite3 DBAPI2 connection. Other DBAPI2 objects are not tested. Please consider using SQLAlchemy.\n",
      "  df_sql = pd.read_sql(query, cnx)\n"
     ]
    },
    {
     "name": "stdout",
     "output_type": "stream",
     "text": [
      "1000 registros actualizados.\n"
     ]
    },
    {
     "name": "stderr",
     "output_type": "stream",
     "text": [
      "/var/folders/j7/f0dlbvv5239_cpgr1x6831pc0000gn/T/ipykernel_26410/3903105507.py:7: UserWarning: pandas only supports SQLAlchemy connectable (engine/connection) or database string URI or sqlite3 DBAPI2 connection. Other DBAPI2 objects are not tested. Please consider using SQLAlchemy.\n",
      "  df_sql = pd.read_sql(query, cnx)\n"
     ]
    },
    {
     "name": "stdout",
     "output_type": "stream",
     "text": [
      "0 registros actualizados.\n"
     ]
    },
    {
     "name": "stderr",
     "output_type": "stream",
     "text": [
      "/var/folders/j7/f0dlbvv5239_cpgr1x6831pc0000gn/T/ipykernel_26410/3903105507.py:7: UserWarning: pandas only supports SQLAlchemy connectable (engine/connection) or database string URI or sqlite3 DBAPI2 connection. Other DBAPI2 objects are not tested. Please consider using SQLAlchemy.\n",
      "  df_sql = pd.read_sql(query, cnx)\n"
     ]
    },
    {
     "name": "stdout",
     "output_type": "stream",
     "text": [
      "1000 registros actualizados.\n"
     ]
    },
    {
     "name": "stderr",
     "output_type": "stream",
     "text": [
      "/var/folders/j7/f0dlbvv5239_cpgr1x6831pc0000gn/T/ipykernel_26410/3903105507.py:7: UserWarning: pandas only supports SQLAlchemy connectable (engine/connection) or database string URI or sqlite3 DBAPI2 connection. Other DBAPI2 objects are not tested. Please consider using SQLAlchemy.\n",
      "  df_sql = pd.read_sql(query, cnx)\n"
     ]
    },
    {
     "name": "stdout",
     "output_type": "stream",
     "text": [
      "0 registros actualizados.\n"
     ]
    },
    {
     "name": "stderr",
     "output_type": "stream",
     "text": [
      "/var/folders/j7/f0dlbvv5239_cpgr1x6831pc0000gn/T/ipykernel_26410/3903105507.py:7: UserWarning: pandas only supports SQLAlchemy connectable (engine/connection) or database string URI or sqlite3 DBAPI2 connection. Other DBAPI2 objects are not tested. Please consider using SQLAlchemy.\n",
      "  df_sql = pd.read_sql(query, cnx)\n"
     ]
    },
    {
     "name": "stdout",
     "output_type": "stream",
     "text": [
      "1000 registros actualizados.\n"
     ]
    },
    {
     "name": "stderr",
     "output_type": "stream",
     "text": [
      "/var/folders/j7/f0dlbvv5239_cpgr1x6831pc0000gn/T/ipykernel_26410/3903105507.py:7: UserWarning: pandas only supports SQLAlchemy connectable (engine/connection) or database string URI or sqlite3 DBAPI2 connection. Other DBAPI2 objects are not tested. Please consider using SQLAlchemy.\n",
      "  df_sql = pd.read_sql(query, cnx)\n"
     ]
    },
    {
     "name": "stdout",
     "output_type": "stream",
     "text": [
      "0 registros actualizados.\n"
     ]
    },
    {
     "name": "stderr",
     "output_type": "stream",
     "text": [
      "/var/folders/j7/f0dlbvv5239_cpgr1x6831pc0000gn/T/ipykernel_26410/3903105507.py:7: UserWarning: pandas only supports SQLAlchemy connectable (engine/connection) or database string URI or sqlite3 DBAPI2 connection. Other DBAPI2 objects are not tested. Please consider using SQLAlchemy.\n",
      "  df_sql = pd.read_sql(query, cnx)\n"
     ]
    },
    {
     "name": "stdout",
     "output_type": "stream",
     "text": [
      "0 registros actualizados.\n"
     ]
    },
    {
     "name": "stderr",
     "output_type": "stream",
     "text": [
      "/var/folders/j7/f0dlbvv5239_cpgr1x6831pc0000gn/T/ipykernel_26410/3903105507.py:7: UserWarning: pandas only supports SQLAlchemy connectable (engine/connection) or database string URI or sqlite3 DBAPI2 connection. Other DBAPI2 objects are not tested. Please consider using SQLAlchemy.\n",
      "  df_sql = pd.read_sql(query, cnx)\n"
     ]
    },
    {
     "name": "stdout",
     "output_type": "stream",
     "text": [
      "0 registros actualizados.\n"
     ]
    },
    {
     "name": "stderr",
     "output_type": "stream",
     "text": [
      "/var/folders/j7/f0dlbvv5239_cpgr1x6831pc0000gn/T/ipykernel_26410/3903105507.py:7: UserWarning: pandas only supports SQLAlchemy connectable (engine/connection) or database string URI or sqlite3 DBAPI2 connection. Other DBAPI2 objects are not tested. Please consider using SQLAlchemy.\n",
      "  df_sql = pd.read_sql(query, cnx)\n"
     ]
    },
    {
     "name": "stdout",
     "output_type": "stream",
     "text": [
      "0 registros actualizados.\n"
     ]
    },
    {
     "name": "stderr",
     "output_type": "stream",
     "text": [
      "/var/folders/j7/f0dlbvv5239_cpgr1x6831pc0000gn/T/ipykernel_26410/3903105507.py:7: UserWarning: pandas only supports SQLAlchemy connectable (engine/connection) or database string URI or sqlite3 DBAPI2 connection. Other DBAPI2 objects are not tested. Please consider using SQLAlchemy.\n",
      "  df_sql = pd.read_sql(query, cnx)\n"
     ]
    },
    {
     "name": "stdout",
     "output_type": "stream",
     "text": [
      "0 registros actualizados.\n"
     ]
    },
    {
     "name": "stderr",
     "output_type": "stream",
     "text": [
      "/var/folders/j7/f0dlbvv5239_cpgr1x6831pc0000gn/T/ipykernel_26410/3903105507.py:7: UserWarning: pandas only supports SQLAlchemy connectable (engine/connection) or database string URI or sqlite3 DBAPI2 connection. Other DBAPI2 objects are not tested. Please consider using SQLAlchemy.\n",
      "  df_sql = pd.read_sql(query, cnx)\n"
     ]
    },
    {
     "name": "stdout",
     "output_type": "stream",
     "text": [
      "0 registros actualizados.\n"
     ]
    },
    {
     "name": "stderr",
     "output_type": "stream",
     "text": [
      "/var/folders/j7/f0dlbvv5239_cpgr1x6831pc0000gn/T/ipykernel_26410/3903105507.py:7: UserWarning: pandas only supports SQLAlchemy connectable (engine/connection) or database string URI or sqlite3 DBAPI2 connection. Other DBAPI2 objects are not tested. Please consider using SQLAlchemy.\n",
      "  df_sql = pd.read_sql(query, cnx)\n"
     ]
    },
    {
     "name": "stdout",
     "output_type": "stream",
     "text": [
      "1000 registros actualizados.\n"
     ]
    },
    {
     "name": "stderr",
     "output_type": "stream",
     "text": [
      "/var/folders/j7/f0dlbvv5239_cpgr1x6831pc0000gn/T/ipykernel_26410/3903105507.py:7: UserWarning: pandas only supports SQLAlchemy connectable (engine/connection) or database string URI or sqlite3 DBAPI2 connection. Other DBAPI2 objects are not tested. Please consider using SQLAlchemy.\n",
      "  df_sql = pd.read_sql(query, cnx)\n"
     ]
    },
    {
     "name": "stdout",
     "output_type": "stream",
     "text": [
      "0 registros actualizados.\n"
     ]
    },
    {
     "name": "stderr",
     "output_type": "stream",
     "text": [
      "/var/folders/j7/f0dlbvv5239_cpgr1x6831pc0000gn/T/ipykernel_26410/3903105507.py:7: UserWarning: pandas only supports SQLAlchemy connectable (engine/connection) or database string URI or sqlite3 DBAPI2 connection. Other DBAPI2 objects are not tested. Please consider using SQLAlchemy.\n",
      "  df_sql = pd.read_sql(query, cnx)\n"
     ]
    },
    {
     "name": "stdout",
     "output_type": "stream",
     "text": [
      "0 registros actualizados.\n"
     ]
    },
    {
     "name": "stderr",
     "output_type": "stream",
     "text": [
      "/var/folders/j7/f0dlbvv5239_cpgr1x6831pc0000gn/T/ipykernel_26410/3903105507.py:7: UserWarning: pandas only supports SQLAlchemy connectable (engine/connection) or database string URI or sqlite3 DBAPI2 connection. Other DBAPI2 objects are not tested. Please consider using SQLAlchemy.\n",
      "  df_sql = pd.read_sql(query, cnx)\n"
     ]
    },
    {
     "name": "stdout",
     "output_type": "stream",
     "text": [
      "0 registros actualizados.\n"
     ]
    },
    {
     "name": "stderr",
     "output_type": "stream",
     "text": [
      "/var/folders/j7/f0dlbvv5239_cpgr1x6831pc0000gn/T/ipykernel_26410/3903105507.py:7: UserWarning: pandas only supports SQLAlchemy connectable (engine/connection) or database string URI or sqlite3 DBAPI2 connection. Other DBAPI2 objects are not tested. Please consider using SQLAlchemy.\n",
      "  df_sql = pd.read_sql(query, cnx)\n"
     ]
    },
    {
     "name": "stdout",
     "output_type": "stream",
     "text": [
      "0 registros actualizados.\n"
     ]
    },
    {
     "name": "stderr",
     "output_type": "stream",
     "text": [
      "/var/folders/j7/f0dlbvv5239_cpgr1x6831pc0000gn/T/ipykernel_26410/3903105507.py:7: UserWarning: pandas only supports SQLAlchemy connectable (engine/connection) or database string URI or sqlite3 DBAPI2 connection. Other DBAPI2 objects are not tested. Please consider using SQLAlchemy.\n",
      "  df_sql = pd.read_sql(query, cnx)\n"
     ]
    },
    {
     "name": "stdout",
     "output_type": "stream",
     "text": [
      "0 registros actualizados.\n"
     ]
    },
    {
     "name": "stderr",
     "output_type": "stream",
     "text": [
      "/var/folders/j7/f0dlbvv5239_cpgr1x6831pc0000gn/T/ipykernel_26410/3903105507.py:7: UserWarning: pandas only supports SQLAlchemy connectable (engine/connection) or database string URI or sqlite3 DBAPI2 connection. Other DBAPI2 objects are not tested. Please consider using SQLAlchemy.\n",
      "  df_sql = pd.read_sql(query, cnx)\n"
     ]
    },
    {
     "name": "stdout",
     "output_type": "stream",
     "text": [
      "0 registros actualizados.\n"
     ]
    },
    {
     "name": "stderr",
     "output_type": "stream",
     "text": [
      "/var/folders/j7/f0dlbvv5239_cpgr1x6831pc0000gn/T/ipykernel_26410/3903105507.py:7: UserWarning: pandas only supports SQLAlchemy connectable (engine/connection) or database string URI or sqlite3 DBAPI2 connection. Other DBAPI2 objects are not tested. Please consider using SQLAlchemy.\n",
      "  df_sql = pd.read_sql(query, cnx)\n"
     ]
    },
    {
     "name": "stdout",
     "output_type": "stream",
     "text": [
      "1000 registros actualizados.\n"
     ]
    },
    {
     "name": "stderr",
     "output_type": "stream",
     "text": [
      "/var/folders/j7/f0dlbvv5239_cpgr1x6831pc0000gn/T/ipykernel_26410/3903105507.py:7: UserWarning: pandas only supports SQLAlchemy connectable (engine/connection) or database string URI or sqlite3 DBAPI2 connection. Other DBAPI2 objects are not tested. Please consider using SQLAlchemy.\n",
      "  df_sql = pd.read_sql(query, cnx)\n"
     ]
    },
    {
     "name": "stdout",
     "output_type": "stream",
     "text": [
      "0 registros actualizados.\n"
     ]
    },
    {
     "name": "stderr",
     "output_type": "stream",
     "text": [
      "/var/folders/j7/f0dlbvv5239_cpgr1x6831pc0000gn/T/ipykernel_26410/3903105507.py:7: UserWarning: pandas only supports SQLAlchemy connectable (engine/connection) or database string URI or sqlite3 DBAPI2 connection. Other DBAPI2 objects are not tested. Please consider using SQLAlchemy.\n",
      "  df_sql = pd.read_sql(query, cnx)\n"
     ]
    },
    {
     "name": "stdout",
     "output_type": "stream",
     "text": [
      "0 registros actualizados.\n"
     ]
    },
    {
     "name": "stderr",
     "output_type": "stream",
     "text": [
      "/var/folders/j7/f0dlbvv5239_cpgr1x6831pc0000gn/T/ipykernel_26410/3903105507.py:7: UserWarning: pandas only supports SQLAlchemy connectable (engine/connection) or database string URI or sqlite3 DBAPI2 connection. Other DBAPI2 objects are not tested. Please consider using SQLAlchemy.\n",
      "  df_sql = pd.read_sql(query, cnx)\n"
     ]
    },
    {
     "name": "stdout",
     "output_type": "stream",
     "text": [
      "0 registros actualizados.\n"
     ]
    },
    {
     "name": "stderr",
     "output_type": "stream",
     "text": [
      "/var/folders/j7/f0dlbvv5239_cpgr1x6831pc0000gn/T/ipykernel_26410/3903105507.py:7: UserWarning: pandas only supports SQLAlchemy connectable (engine/connection) or database string URI or sqlite3 DBAPI2 connection. Other DBAPI2 objects are not tested. Please consider using SQLAlchemy.\n",
      "  df_sql = pd.read_sql(query, cnx)\n"
     ]
    },
    {
     "name": "stdout",
     "output_type": "stream",
     "text": [
      "0 registros actualizados.\n"
     ]
    },
    {
     "name": "stderr",
     "output_type": "stream",
     "text": [
      "/var/folders/j7/f0dlbvv5239_cpgr1x6831pc0000gn/T/ipykernel_26410/3903105507.py:7: UserWarning: pandas only supports SQLAlchemy connectable (engine/connection) or database string URI or sqlite3 DBAPI2 connection. Other DBAPI2 objects are not tested. Please consider using SQLAlchemy.\n",
      "  df_sql = pd.read_sql(query, cnx)\n"
     ]
    },
    {
     "name": "stdout",
     "output_type": "stream",
     "text": [
      "0 registros actualizados.\n"
     ]
    },
    {
     "name": "stderr",
     "output_type": "stream",
     "text": [
      "/var/folders/j7/f0dlbvv5239_cpgr1x6831pc0000gn/T/ipykernel_26410/3903105507.py:7: UserWarning: pandas only supports SQLAlchemy connectable (engine/connection) or database string URI or sqlite3 DBAPI2 connection. Other DBAPI2 objects are not tested. Please consider using SQLAlchemy.\n",
      "  df_sql = pd.read_sql(query, cnx)\n"
     ]
    },
    {
     "name": "stdout",
     "output_type": "stream",
     "text": [
      "0 registros actualizados.\n"
     ]
    },
    {
     "name": "stderr",
     "output_type": "stream",
     "text": [
      "/var/folders/j7/f0dlbvv5239_cpgr1x6831pc0000gn/T/ipykernel_26410/3903105507.py:7: UserWarning: pandas only supports SQLAlchemy connectable (engine/connection) or database string URI or sqlite3 DBAPI2 connection. Other DBAPI2 objects are not tested. Please consider using SQLAlchemy.\n",
      "  df_sql = pd.read_sql(query, cnx)\n"
     ]
    }
   ],
   "source": [
    "# Agrega a la base de datos los resultados de la clasificación de sentimiento y conteo de palabras por tipo de token.\n",
    "\n",
    "while True:\n",
    "\n",
    "    # Selecciona las 1000 primeras de la tabla tu que la columna sentiment sea null\n",
    "    query = \"SELECT id, source, target FROM tu WHERE sentiment IS NULL AND busy=false LIMIT 1000\"\n",
    "\n",
    "    # Crea un dataframe con los datos de la consulta\n",
    "    df_sql = pd.read_sql(query, cnx)\n",
    "\n",
    "    # Identifica los ids de los registros a actualizar y pone busy=true para que no sean seleccionados por otro proceso \n",
    "    ids = list(df_sql[\"id\"])  \n",
    "    qq= \"UPDATE tu SET busy=true WHERE id IN (\" + \",\".join(map(str, ids)) + \")\"\n",
    "\n",
    "\n",
    "    # Actualiza los registros en la tabla\n",
    "    cursor.execute(qq)\n",
    "    cnx.commit()\n",
    "\n",
    "    # Aplica la función analiza_sentimiento a cada fila del dataframe y crea una nueva columna con el resultado de la función\n",
    "    df_sql['sentiment'] = df_sql['source'].apply(analiza_sentimiento)\n",
    "\n",
    "    # Aplique la función contar a cada fila del dataframe y cree una nueva columna con el resultado de la función\n",
    "\n",
    "    # CANTIDAD DE SUSTANTIVOS EN SOURCE Y TARGET\n",
    "    df_sql[\"NOUN_source\"] = df_sql[\"source\"].apply(contar, args=(\"en\", \"NOUN\",))\n",
    "    df_sql[\"NOUN_target\"] = df_sql[\"target\"].apply(contar, args=(\"es\", \"NOUN\",))\n",
    "\n",
    "    # CANTIDAD DE ADJETIVOS EN SOURCE Y TARGET\n",
    "    df_sql[\"ADJ_source\"] = df_sql[\"source\"].apply(contar, args=(\"en\", \"ADJ\",))\n",
    "    df_sql[\"ADJ_target\"] = df_sql[\"target\"].apply(contar, args=(\"es\", \"ADJ\",))\n",
    "\n",
    "    # CANTIDAD DE DETERMINANTES EN SOURCE Y TARGET\n",
    "    df_sql[\"DET_source\"] = df_sql[\"source\"].apply(contar, args=(\"en\", \"DET\",))\n",
    "    df_sql[\"DET_target\"] = df_sql[\"target\"].apply(contar, args=(\"es\", \"DET\",))\n",
    "\n",
    "    # CANTIDAD DE ADVERBIOS EN SOURCE Y TARGET\n",
    "    df_sql[\"ADV_source\"] = df_sql[\"source\"].apply(contar, args=(\"en\", \"ADV\",))\n",
    "    df_sql[\"ADV_target\"] = df_sql[\"target\"].apply(contar, args=(\"es\", \"ADV\",))\n",
    "\n",
    "    # CANTIDAD DE CONJUNCIONES EN SOURCE Y TARGET\n",
    "    df_sql[\"CCONJ_source\"] = df_sql[\"source\"].apply(contar, args=(\"en\", \"CCONJ\",))\n",
    "    df_sql[\"CCONJ_target\"] = df_sql[\"target\"].apply(contar, args=(\"es\", \"CCONJ\",))\n",
    "\n",
    "    # CANTIDAD DE VERBOS EN SOURCE Y TARGET\n",
    "    df_sql[\"VERB_source\"] = df_sql[\"source\"].apply(contar, args=(\"en\", \"VERB\",))\n",
    "    df_sql[\"VERB_target\"] = df_sql[\"target\"].apply(contar, args=(\"es\", \"VERB\",))\n",
    "\n",
    "    # CANTIDAD DE VERBOS AUXILIARES EN SOURCE Y TARGET (do, have, be)\n",
    "    df_sql[\"VAUX_source\"] = df_sql[\"source\"].apply(contar, args=(\"en\", \"AUX\",))\n",
    "    df_sql[\"VAUX_target\"] = df_sql[\"target\"].apply(contar, args=(\"es\", \"AUX\",))\n",
    "\n",
    "    # CANTIDAD DE PRONOMBRES EN SOURCE Y TARGET\n",
    "    df_sql[\"PRON_source\"] = df_sql[\"source\"].apply(contar, args=(\"en\", \"PRON\",))\n",
    "    df_sql[\"PRON_target\"] = df_sql[\"target\"].apply(contar, args=(\"es\", \"PRON\",))\n",
    "\n",
    "    # CANTIDAD DE PRE\\POS POSICIONES EN SOURCE Y TARGET\n",
    "    df_sql[\"ADP_source\"] = df_sql[\"source\"].apply(contar, args=(\"en\", \"ADP\",))\n",
    "    df_sql[\"ADP_target\"] = df_sql[\"target\"].apply(contar, args=(\"es\", \"ADP\",))\n",
    "\n",
    "    # CANTIDAD DE SIGNOS DE PUNTUACION EN SOURCE Y TARGET\n",
    "    df_sql[\"PUNCT_source\"] = df_sql[\"source\"].apply(contar, args=(\"en\", \"PUNCT\",))\n",
    "    df_sql[\"PUNCT_target\"] = df_sql[\"target\"].apply(contar, args=(\"es\", \"PUNCT\",))\n",
    "\n",
    "    # Selecciona las columnas que se van a actualizar en la tabla tu\n",
    "    df_sql = df_sql[['sentiment', 'NOUN_source', 'NOUN_target', 'ADJ_source', 'ADJ_target',\n",
    "                     'DET_source', 'DET_target', 'ADV_source', 'ADV_target', 'CCONJ_source', 'CCONJ_target',\n",
    "                     'VERB_source', 'VERB_target', 'VAUX_source', 'VAUX_target', 'PRON_source', 'PRON_target',\n",
    "                     'ADP_source', 'ADP_target', 'PUNCT_source', 'PUNCT_target', \n",
    "                        'id']] \n",
    "                    \n",
    "\n",
    "    # Convierte el dataframe en una lista\n",
    "    values = df_sql.values.tolist()\n",
    "    if len(values) == 0:\n",
    "        break\n",
    "\n",
    "    # Actualiza la tabla tu con los nuevos valores de la columna sentiment y los nuevos valores de las columnas de conteo de palabras por tipo de token\n",
    "\n",
    "    query = \"\"\" UPDATE tu SET sentiment = %s,\n",
    "                                NOUN_source = %s, NOUN_target = %s, ADJ_source = %s, ADJ_target = %s, \n",
    "                                DET_source = %s, DET_target = %s, ADV_source = %s, ADV_target = %s,\n",
    "                                CCONJ_source = %s,CCONJ_target = %s, VERB_source = %s,VERB_target = %s,\n",
    "                                VAUX_source = %s,VAUX_target = %s,PRON_source = %s,PRON_target = %s,\n",
    "                                ADP_source = %s,ADP_target= %s,PUNCT_source = %s,PUNCT_target= %s \n",
    "                            WHERE id = %s\n",
    "    \"\"\"\n",
    "\n",
    "    # Ejecución de la actualización en lote\n",
    "    cursor.executemany(query, values)\n",
    "\n",
    "    # Confirmar los cambios en la base de datos\n",
    "    cnx.commit()\n",
    "\n",
    "    # Imprime el contador de registros actualizados y el número de registros en el dataframe, para verificar que se esté actualizando la tabla\n",
    "    print(cursor.rowcount, \"registros actualizados.\")\n"
   ]
  },
  {
   "attachments": {},
   "cell_type": "markdown",
   "metadata": {},
   "source": [
    "[Siguiente: Limpieza de Datos](4_limpieza_datos.ipynb)"
   ]
  }
 ],
 "metadata": {
  "kernelspec": {
   "display_name": "eda_project",
   "language": "python",
   "name": "python3"
  },
  "language_info": {
   "codemirror_mode": {
    "name": "ipython",
    "version": 3
   },
   "file_extension": ".py",
   "mimetype": "text/x-python",
   "name": "python",
   "nbconvert_exporter": "python",
   "pygments_lexer": "ipython3",
   "version": "3.9.16"
  },
  "orig_nbformat": 4
 },
 "nbformat": 4,
 "nbformat_minor": 2
}
